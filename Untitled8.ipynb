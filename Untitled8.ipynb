{
  "nbformat": 4,
  "nbformat_minor": 0,
  "metadata": {
    "colab": {
      "name": "Untitled8.ipynb",
      "provenance": [],
      "authorship_tag": "ABX9TyP+L9M3J5cH2qYjwXie94pK",
      "include_colab_link": true
    },
    "kernelspec": {
      "name": "python3",
      "display_name": "Python 3"
    }
  },
  "cells": [
    {
      "cell_type": "markdown",
      "metadata": {
        "id": "view-in-github",
        "colab_type": "text"
      },
      "source": [
        "<a href=\"https://colab.research.google.com/github/19PA1A0556/python/blob/master/Untitled8.ipynb\" target=\"_parent\"><img src=\"https://colab.research.google.com/assets/colab-badge.svg\" alt=\"Open In Colab\"/></a>"
      ]
    },
    {
      "cell_type": "code",
      "metadata": {
        "id": "LRJ0u_aB9TVA",
        "colab_type": "code",
        "colab": {}
      },
      "source": [
        "import numpy as np\n",
        "import pandas as pd\n",
        "import matplotlib.pyplot as plt\n",
        "import seaborn as sb\n",
        "from sklearn.svm import SVC as svc\n",
        "from sklearn.model_selection import train_test_split as tts\n",
        "from sklearn.metrics import mean_squared_error\n",
        "from sklearn import metrics"
      ],
      "execution_count": 0,
      "outputs": []
    },
    {
      "cell_type": "code",
      "metadata": {
        "id": "-jQg5VSG-CYE",
        "colab_type": "code",
        "colab": {
          "base_uri": "https://localhost:8080/",
          "height": 419
        },
        "outputId": "9d415e36-7c16-4fc5-8e8a-dbbf59cc3b27"
      },
      "source": [
        "data = pd.read_csv(\"iris2.txt\")                   #read the data\n",
        "data"
      ],
      "execution_count": 5,
      "outputs": [
        {
          "output_type": "execute_result",
          "data": {
            "text/html": [
              "<div>\n",
              "<style scoped>\n",
              "    .dataframe tbody tr th:only-of-type {\n",
              "        vertical-align: middle;\n",
              "    }\n",
              "\n",
              "    .dataframe tbody tr th {\n",
              "        vertical-align: top;\n",
              "    }\n",
              "\n",
              "    .dataframe thead th {\n",
              "        text-align: right;\n",
              "    }\n",
              "</style>\n",
              "<table border=\"1\" class=\"dataframe\">\n",
              "  <thead>\n",
              "    <tr style=\"text-align: right;\">\n",
              "      <th></th>\n",
              "      <th>sepallength</th>\n",
              "      <th>sepalwidth</th>\n",
              "      <th>petallength</th>\n",
              "      <th>petalwidth</th>\n",
              "      <th>spec</th>\n",
              "    </tr>\n",
              "  </thead>\n",
              "  <tbody>\n",
              "    <tr>\n",
              "      <th>0</th>\n",
              "      <td>5.1</td>\n",
              "      <td>3.5</td>\n",
              "      <td>1.4</td>\n",
              "      <td>0.2</td>\n",
              "      <td>Iris-setosa</td>\n",
              "    </tr>\n",
              "    <tr>\n",
              "      <th>1</th>\n",
              "      <td>4.9</td>\n",
              "      <td>3.0</td>\n",
              "      <td>1.4</td>\n",
              "      <td>0.2</td>\n",
              "      <td>Iris-setosa</td>\n",
              "    </tr>\n",
              "    <tr>\n",
              "      <th>2</th>\n",
              "      <td>4.7</td>\n",
              "      <td>3.2</td>\n",
              "      <td>1.3</td>\n",
              "      <td>0.2</td>\n",
              "      <td>Iris-setosa</td>\n",
              "    </tr>\n",
              "    <tr>\n",
              "      <th>3</th>\n",
              "      <td>4.6</td>\n",
              "      <td>3.1</td>\n",
              "      <td>1.5</td>\n",
              "      <td>0.2</td>\n",
              "      <td>Iris-setosa</td>\n",
              "    </tr>\n",
              "    <tr>\n",
              "      <th>4</th>\n",
              "      <td>5.0</td>\n",
              "      <td>3.6</td>\n",
              "      <td>1.4</td>\n",
              "      <td>0.2</td>\n",
              "      <td>Iris-setosa</td>\n",
              "    </tr>\n",
              "    <tr>\n",
              "      <th>...</th>\n",
              "      <td>...</td>\n",
              "      <td>...</td>\n",
              "      <td>...</td>\n",
              "      <td>...</td>\n",
              "      <td>...</td>\n",
              "    </tr>\n",
              "    <tr>\n",
              "      <th>113</th>\n",
              "      <td>5.7</td>\n",
              "      <td>2.5</td>\n",
              "      <td>5.0</td>\n",
              "      <td>2.0</td>\n",
              "      <td>Iris-virginica</td>\n",
              "    </tr>\n",
              "    <tr>\n",
              "      <th>114</th>\n",
              "      <td>5.8</td>\n",
              "      <td>2.8</td>\n",
              "      <td>5.1</td>\n",
              "      <td>2.4</td>\n",
              "      <td>Iris-virginica</td>\n",
              "    </tr>\n",
              "    <tr>\n",
              "      <th>115</th>\n",
              "      <td>6.4</td>\n",
              "      <td>3.2</td>\n",
              "      <td>5.3</td>\n",
              "      <td>2.3</td>\n",
              "      <td>Iris-virginica</td>\n",
              "    </tr>\n",
              "    <tr>\n",
              "      <th>116</th>\n",
              "      <td>6.5</td>\n",
              "      <td>3.0</td>\n",
              "      <td>5.5</td>\n",
              "      <td>1.8</td>\n",
              "      <td>Iris-virginica</td>\n",
              "    </tr>\n",
              "    <tr>\n",
              "      <th>117</th>\n",
              "      <td>7.7</td>\n",
              "      <td>3.8</td>\n",
              "      <td>6.7</td>\n",
              "      <td>2.2</td>\n",
              "      <td>Iris-virginica</td>\n",
              "    </tr>\n",
              "  </tbody>\n",
              "</table>\n",
              "<p>118 rows × 5 columns</p>\n",
              "</div>"
            ],
            "text/plain": [
              "     sepallength  sepalwidth  petallength  petalwidth            spec\n",
              "0            5.1         3.5          1.4         0.2     Iris-setosa\n",
              "1            4.9         3.0          1.4         0.2     Iris-setosa\n",
              "2            4.7         3.2          1.3         0.2     Iris-setosa\n",
              "3            4.6         3.1          1.5         0.2     Iris-setosa\n",
              "4            5.0         3.6          1.4         0.2     Iris-setosa\n",
              "..           ...         ...          ...         ...             ...\n",
              "113          5.7         2.5          5.0         2.0  Iris-virginica\n",
              "114          5.8         2.8          5.1         2.4  Iris-virginica\n",
              "115          6.4         3.2          5.3         2.3  Iris-virginica\n",
              "116          6.5         3.0          5.5         1.8  Iris-virginica\n",
              "117          7.7         3.8          6.7         2.2  Iris-virginica\n",
              "\n",
              "[118 rows x 5 columns]"
            ]
          },
          "metadata": {
            "tags": []
          },
          "execution_count": 5
        }
      ]
    },
    {
      "cell_type": "code",
      "metadata": {
        "id": "ImmLEJLw-V9i",
        "colab_type": "code",
        "colab": {
          "base_uri": "https://localhost:8080/",
          "height": 119
        },
        "outputId": "d93aa950-f7e4-4141-9e9c-006c6fa25244"
      },
      "source": [
        "data.isna().any()               #checking for any gaps in the data"
      ],
      "execution_count": 7,
      "outputs": [
        {
          "output_type": "execute_result",
          "data": {
            "text/plain": [
              "sepallength    False\n",
              "sepalwidth     False\n",
              "petallength    False\n",
              "petalwidth     False\n",
              "spec           False\n",
              "dtype: bool"
            ]
          },
          "metadata": {
            "tags": []
          },
          "execution_count": 7
        }
      ]
    },
    {
      "cell_type": "code",
      "metadata": {
        "id": "SXEc-Ckl-puW",
        "colab_type": "code",
        "colab": {}
      },
      "source": [
        "x = data[[\"sepallength\",\"sepalwidth\",\"petallength\",\"petalwidth\"]]     #Give the first four columns as features \n",
        "y = data[[\"spec\"]]                                                    #Give the last as label"
      ],
      "execution_count": 0,
      "outputs": []
    },
    {
      "cell_type": "code",
      "metadata": {
        "id": "w1h9_fkgA8_Q",
        "colab_type": "code",
        "colab": {
          "base_uri": "https://localhost:8080/",
          "height": 1000
        },
        "outputId": "f9afb222-0314-45b0-dae1-41c7fdd7baca"
      },
      "source": [
        "x_train, x_test, y_train, y_test = tts(x, y, test_size = 0.2, random_state = 42)    #random_state = 42 and test_size = 0.2\n",
        "x_train, x_test, y_train, y_test"
      ],
      "execution_count": 10,
      "outputs": [
        {
          "output_type": "execute_result",
          "data": {
            "text/plain": [
              "(     sepallength  sepalwidth  petallength  petalwidth\n",
              " 44           5.1         3.8          1.9         0.4\n",
              " 12           4.8         3.0          1.4         0.1\n",
              " 15           5.7         4.4          1.5         0.4\n",
              " 70           5.9         3.2          4.8         1.8\n",
              " 107          7.3         2.9          6.3         1.8\n",
              " ..           ...         ...          ...         ...\n",
              " 106          4.9         2.5          4.5         1.7\n",
              " 14           5.8         4.0          1.2         0.2\n",
              " 92           5.8         2.6          4.0         1.2\n",
              " 51           6.4         3.2          4.5         1.5\n",
              " 102          7.1         3.0          5.9         2.1\n",
              " \n",
              " [94 rows x 4 columns],      sepallength  sepalwidth  petallength  petalwidth\n",
              " 56           6.3         3.3          4.7         1.6\n",
              " 89           5.5         2.5          4.0         1.3\n",
              " 4            5.0         3.6          1.4         0.2\n",
              " 45           4.8         3.0          1.4         0.3\n",
              " 26           5.0         3.4          1.6         0.4\n",
              " 116          6.5         3.0          5.5         1.8\n",
              " 69           5.6         2.5          3.9         1.1\n",
              " 10           5.4         3.7          1.5         0.2\n",
              " 90           5.5         2.6          4.4         1.2\n",
              " 73           6.1         2.8          4.7         1.2\n",
              " 18           5.7         3.8          1.7         0.3\n",
              " 111          6.4         2.7          5.3         1.9\n",
              " 11           4.8         3.4          1.6         0.2\n",
              " 96           5.7         2.9          4.2         1.3\n",
              " 42           4.4         3.2          1.3         0.2\n",
              " 31           5.4         3.4          1.5         0.4\n",
              " 88           5.6         3.0          4.1         1.3\n",
              " 0            5.1         3.5          1.4         0.2\n",
              " 97           6.2         2.9          4.3         1.3\n",
              " 109          7.2         3.6          6.1         2.5\n",
              " 64           5.6         2.9          3.6         1.3\n",
              " 40           5.0         3.5          1.3         0.3\n",
              " 95           5.7         3.0          4.2         1.2\n",
              " 53           5.5         2.3          4.0         1.3,                 spec\n",
              " 44       Iris-setosa\n",
              " 12       Iris-setosa\n",
              " 15       Iris-setosa\n",
              " 70   Iris-versicolor\n",
              " 107   Iris-virginica\n",
              " ..               ...\n",
              " 106   Iris-virginica\n",
              " 14       Iris-setosa\n",
              " 92   Iris-versicolor\n",
              " 51   Iris-versicolor\n",
              " 102   Iris-virginica\n",
              " \n",
              " [94 rows x 1 columns],                 spec\n",
              " 56   Iris-versicolor\n",
              " 89   Iris-versicolor\n",
              " 4        Iris-setosa\n",
              " 45       Iris-setosa\n",
              " 26       Iris-setosa\n",
              " 116   Iris-virginica\n",
              " 69   Iris-versicolor\n",
              " 10       Iris-setosa\n",
              " 90   Iris-versicolor\n",
              " 73   Iris-versicolor\n",
              " 18       Iris-setosa\n",
              " 111   Iris-virginica\n",
              " 11       Iris-setosa\n",
              " 96   Iris-versicolor\n",
              " 42       Iris-setosa\n",
              " 31       Iris-setosa\n",
              " 88   Iris-versicolor\n",
              " 0        Iris-setosa\n",
              " 97   Iris-versicolor\n",
              " 109   Iris-virginica\n",
              " 64   Iris-versicolor\n",
              " 40       Iris-setosa\n",
              " 95   Iris-versicolor\n",
              " 53   Iris-versicolor)"
            ]
          },
          "metadata": {
            "tags": []
          },
          "execution_count": 10
        }
      ]
    },
    {
      "cell_type": "code",
      "metadata": {
        "id": "zgy75yxPBNxp",
        "colab_type": "code",
        "colab": {
          "base_uri": "https://localhost:8080/",
          "height": 139
        },
        "outputId": "f4d15fb5-107b-4b25-9bad-5964a95b706e"
      },
      "source": [
        "svrm = svc()    \n",
        "svrm.fit(x_train, y_train)"
      ],
      "execution_count": 12,
      "outputs": [
        {
          "output_type": "stream",
          "text": [
            "/usr/local/lib/python3.6/dist-packages/sklearn/utils/validation.py:760: DataConversionWarning: A column-vector y was passed when a 1d array was expected. Please change the shape of y to (n_samples, ), for example using ravel().\n",
            "  y = column_or_1d(y, warn=True)\n"
          ],
          "name": "stderr"
        },
        {
          "output_type": "execute_result",
          "data": {
            "text/plain": [
              "SVC(C=1.0, break_ties=False, cache_size=200, class_weight=None, coef0=0.0,\n",
              "    decision_function_shape='ovr', degree=3, gamma='scale', kernel='rbf',\n",
              "    max_iter=-1, probability=False, random_state=None, shrinking=True,\n",
              "    tol=0.001, verbose=False)"
            ]
          },
          "metadata": {
            "tags": []
          },
          "execution_count": 12
        }
      ]
    },
    {
      "cell_type": "code",
      "metadata": {
        "id": "zse6JwZJBhid",
        "colab_type": "code",
        "colab": {
          "base_uri": "https://localhost:8080/",
          "height": 136
        },
        "outputId": "70bc4577-1fe6-4a33-a02b-c73bd31ae331"
      },
      "source": [
        "y_pred = svrm.predict(x_test)                     #predict the x_test data\n",
        "y_pred"
      ],
      "execution_count": 14,
      "outputs": [
        {
          "output_type": "execute_result",
          "data": {
            "text/plain": [
              "array(['Iris-versicolor', 'Iris-versicolor', 'Iris-setosa', 'Iris-setosa',\n",
              "       'Iris-setosa', 'Iris-virginica', 'Iris-versicolor', 'Iris-setosa',\n",
              "       'Iris-versicolor', 'Iris-versicolor', 'Iris-setosa',\n",
              "       'Iris-versicolor', 'Iris-setosa', 'Iris-versicolor', 'Iris-setosa',\n",
              "       'Iris-setosa', 'Iris-versicolor', 'Iris-setosa', 'Iris-versicolor',\n",
              "       'Iris-virginica', 'Iris-versicolor', 'Iris-setosa',\n",
              "       'Iris-versicolor', 'Iris-versicolor'], dtype=object)"
            ]
          },
          "metadata": {
            "tags": []
          },
          "execution_count": 14
        }
      ]
    },
    {
      "cell_type": "code",
      "metadata": {
        "id": "J9aF58mWBwOD",
        "colab_type": "code",
        "colab": {
          "base_uri": "https://localhost:8080/",
          "height": 68
        },
        "outputId": "87932376-a2d6-4e7c-beab-874834bf2675"
      },
      "source": [
        "metrics.confusion_matrix(y_test,y_pred)                   #Get the confusion matrix"
      ],
      "execution_count": 16,
      "outputs": [
        {
          "output_type": "execute_result",
          "data": {
            "text/plain": [
              "array([[10,  0,  0],\n",
              "       [ 0, 11,  0],\n",
              "       [ 0,  1,  2]])"
            ]
          },
          "metadata": {
            "tags": []
          },
          "execution_count": 16
        }
      ]
    },
    {
      "cell_type": "code",
      "metadata": {
        "id": "7Dj62wIoB8NM",
        "colab_type": "code",
        "colab": {
          "base_uri": "https://localhost:8080/",
          "height": 34
        },
        "outputId": "da4ed50c-d0cf-4420-b2ed-669d8dac0a89"
      },
      "source": [
        "metrics.accuracy_score(y_test,y_pred)     #Find out accuracy"
      ],
      "execution_count": 18,
      "outputs": [
        {
          "output_type": "execute_result",
          "data": {
            "text/plain": [
              "0.9583333333333334"
            ]
          },
          "metadata": {
            "tags": []
          },
          "execution_count": 18
        }
      ]
    },
    {
      "cell_type": "code",
      "metadata": {
        "id": "MnE5AggeCLP7",
        "colab_type": "code",
        "colab": {
          "base_uri": "https://localhost:8080/",
          "height": 34
        },
        "outputId": "2f7a225a-656d-45b0-8a1e-23741f62ee93"
      },
      "source": [
        "metrics.precision_score(y_test,y_pred, average = 'weighted')      #find the precission "
      ],
      "execution_count": 19,
      "outputs": [
        {
          "output_type": "execute_result",
          "data": {
            "text/plain": [
              "0.9618055555555555"
            ]
          },
          "metadata": {
            "tags": []
          },
          "execution_count": 19
        }
      ]
    }
  ]
}